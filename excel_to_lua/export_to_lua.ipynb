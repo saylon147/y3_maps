{
 "cells": [
  {
   "cell_type": "code",
   "execution_count": 15,
   "id": "initial_id",
   "metadata": {
    "collapsed": true,
    "ExecuteTime": {
     "end_time": "2024-10-23T07:31:57.930986100Z",
     "start_time": "2024-10-23T07:31:57.897268Z"
    }
   },
   "outputs": [
    {
     "name": "stdout",
     "output_type": "stream",
     "text": [
      "Sheet name with content: 工作表1\n"
     ]
    }
   ],
   "source": [
    "import pandas as pd\n",
    "import os\n",
    "\n",
    "# 打开 Excel 文件\n",
    "excel_file_path = \"data/3-读取excel.xlsx\"  # Excel 文件路径\n",
    "\n",
    "if os.path.exists(excel_file_path):\n",
    "    with pd.ExcelFile(excel_file_path) as xls:\n",
    "        # 输出所有有内容的工作表名称\n",
    "        for sheet_name in xls.sheet_names:\n",
    "            df = pd.read_excel(xls, sheet_name=sheet_name)\n",
    "            if not df.empty:\n",
    "                print(f\"Sheet name with content: {sheet_name}\")\n",
    "else:\n",
    "    print(\"找不到指定的 Excel 文件。\")"
   ]
  },
  {
   "cell_type": "code",
   "execution_count": 16,
   "outputs": [],
   "source": [
    "def export_excel_to_lua(excel_path, sheet_name, lua_output_path):\n",
    "    # 读取 Excel 文件\n",
    "    df = pd.read_excel(excel_path, sheet_name=sheet_name)\n",
    "\n",
    "    # 找到键名所在的行（第一个非注释行）\n",
    "    key_row_index = None\n",
    "    header_comment = []\n",
    "    for idx, row in df.iterrows():\n",
    "        if not pd.isna(row[0]) and str(row[0]).startswith('#'):\n",
    "            header_comment.append(str(row[0]))  # 保存注释行\n",
    "        elif not pd.isna(row[0]) and not str(row[0]).startswith('#'):\n",
    "            key_row_index = idx\n",
    "            break\n",
    "\n",
    "    if key_row_index is None:\n",
    "        print(f\"未找到有效的键名行，跳过工作表 {sheet_name}\")\n",
    "        return\n",
    "\n",
    "    # 获取键名\n",
    "    keys = df.iloc[key_row_index]\n",
    "    keys_to_export = []\n",
    "    for column_name in df.columns:\n",
    "        key_name = keys[column_name]\n",
    "        if not pd.isna(key_name) and not str(key_name).startswith('#'):\n",
    "            keys_to_export.append((column_name, key_name))\n",
    "\n",
    "    # 打开或创建 Lua 输出文件\n",
    "    with open(lua_output_path, 'w', encoding='utf-8') as lua_file:\n",
    "        for comment in header_comment:\n",
    "            lua_file.write(f'-- {comment}\\n')\n",
    "        lua_file.write('local config = {\\n')\n",
    "\n",
    "        # 遍历 Excel 每一行，从键名行之后开始\n",
    "        skip_cnt = 0\n",
    "        for index, row in df.iloc[key_row_index + 1:].iterrows():\n",
    "            if pd.isna(row[0]) or str(row[0]).startswith('#'):  # 如果第一列为空，跳过该行\n",
    "                skip_cnt += 1\n",
    "                continue\n",
    "\n",
    "            lua_file.write(f'    [{index - key_row_index - skip_cnt}] = {{\\n')\n",
    "            for column_name, key in keys_to_export:\n",
    "                value = row[column_name]\n",
    "                # 检查数据类型并格式化为 Lua 格式\n",
    "                if isinstance(value, str):\n",
    "                    # 如果值是以 \"|\" 分隔的字符串，拆分为数组\n",
    "                    if '|' in value:\n",
    "                        split_values = value.split('|')\n",
    "                        lua_file.write(f'        [\"{key}\"] = {{\\n')\n",
    "                        for i, split_value in enumerate(split_values, start=1):\n",
    "                            lua_file.write(f'            [{i}] = {split_value},\\n')\n",
    "                        lua_file.write('        },\\n')\n",
    "                    else:\n",
    "                        lua_value = f'\"{value}\"'\n",
    "                        lua_file.write(f'        [\"{key}\"] = {lua_value},\\n')\n",
    "                elif pd.isna(value):\n",
    "                    # 跳过空值\n",
    "                    continue\n",
    "                else:\n",
    "                    lua_value = str(value)\n",
    "                    lua_file.write(f'        [\"{key}\"] = {lua_value},\\n')\n",
    "\n",
    "            lua_file.write('    },\\n')\n",
    "\n",
    "        lua_file.write('}\\n\\nreturn config\\n')"
   ],
   "metadata": {
    "collapsed": false,
    "ExecuteTime": {
     "end_time": "2024-10-23T07:31:58.692380500Z",
     "start_time": "2024-10-23T07:31:58.666322300Z"
    }
   },
   "id": "ab4ddd7be8697923"
  },
  {
   "cell_type": "code",
   "execution_count": 17,
   "outputs": [
    {
     "name": "stdout",
     "output_type": "stream",
     "text": [
      "配置文件成功导出到 output/工作表1_config.lua\n"
     ]
    },
    {
     "name": "stderr",
     "output_type": "stream",
     "text": [
      "C:\\Users\\9you\\AppData\\Local\\Temp\\ipykernel_166160\\294892096.py:9: FutureWarning: Series.__getitem__ treating keys as positions is deprecated. In a future version, integer keys will always be treated as labels (consistent with DataFrame behavior). To access a value by position, use `ser.iloc[pos]`\n",
      "  if not pd.isna(row[0]) and str(row[0]).startswith('#'):\n",
      "C:\\Users\\9you\\AppData\\Local\\Temp\\ipykernel_166160\\294892096.py:11: FutureWarning: Series.__getitem__ treating keys as positions is deprecated. In a future version, integer keys will always be treated as labels (consistent with DataFrame behavior). To access a value by position, use `ser.iloc[pos]`\n",
      "  elif not pd.isna(row[0]) and not str(row[0]).startswith('#'):\n",
      "C:\\Users\\9you\\AppData\\Local\\Temp\\ipykernel_166160\\294892096.py:36: FutureWarning: Series.__getitem__ treating keys as positions is deprecated. In a future version, integer keys will always be treated as labels (consistent with DataFrame behavior). To access a value by position, use `ser.iloc[pos]`\n",
      "  if pd.isna(row[0]) or str(row[0]).startswith('#'):  # 如果第一列为空，跳过该行\n"
     ]
    }
   ],
   "source": [
    "sheet_name = '工作表1'\n",
    "lua_file_path = f\"output/{sheet_name}_config.lua\"  # 导出 Lua 文件路径\n",
    "export_excel_to_lua(excel_file_path, sheet_name, lua_file_path)\n",
    "print(f\"配置文件成功导出到 {lua_file_path}\")"
   ],
   "metadata": {
    "collapsed": false,
    "ExecuteTime": {
     "end_time": "2024-10-23T07:31:59.299934500Z",
     "start_time": "2024-10-23T07:31:59.272054300Z"
    }
   },
   "id": "221055066fe68fc1"
  },
  {
   "cell_type": "code",
   "execution_count": null,
   "outputs": [],
   "source": [],
   "metadata": {
    "collapsed": false
   },
   "id": "746ca4850d96b211"
  }
 ],
 "metadata": {
  "kernelspec": {
   "display_name": "Python 3",
   "language": "python",
   "name": "python3"
  },
  "language_info": {
   "codemirror_mode": {
    "name": "ipython",
    "version": 2
   },
   "file_extension": ".py",
   "mimetype": "text/x-python",
   "name": "python",
   "nbconvert_exporter": "python",
   "pygments_lexer": "ipython2",
   "version": "2.7.6"
  }
 },
 "nbformat": 4,
 "nbformat_minor": 5
}
